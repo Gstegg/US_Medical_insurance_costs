{
 "cells": [
  {
   "cell_type": "markdown",
   "metadata": {},
   "source": [
    "# U.S. Medical Insurance Costs"
   ]
  },
  {
   "cell_type": "markdown",
   "metadata": {},
   "source": [
    "Codecademy Data Analyst Career Path (Pro)<br>\n",
    "Python Portfolio Project<br>\n",
    "U.S. Medical Insurance Costs<br>\n",
    "by Ginger Steggles<br>\n",
    "\n",
    "I have a Mathematics background, but it has been over 20 years since I have done any Statistics, and even then it was elementary. I have not yet had a chance to review the subject of Statistics in my Data Analyst learning journey so far;  therefore, the analysis below is not statistically rigorous, and I use percentages and averages only. I have also only learned basic Python so far, and so I do not know how to make visualisations of the analyses presented. Basically, this shows how I can import data using the csv library and save it into lists. I maybe should have saved the data into a dictionary to handle the data a bit easier, I don't know. I am still unclear when to use functions and do not have a good understanding of classes, so the use of functions is very sporadic and the use of classes is non-existent. I might come back to this project later to fix this. Anyway, it is what it is at the moment, and I welcome any feedback.\n",
    "\n",
    "\n",
    "## Scoping of the Project:\n",
    "\n",
    "Problem(s):\n",
    "How can we help people to reduce their insurance costs, and in so doing, improve their overall health (or vice versa)?\n",
    "\n",
    "First, I would like to describe the dataset:\n",
    "1. How many entries are there?\n",
    "2. What percent are male and what percent are female?\n",
    "3. How many people from each region?\n",
    "4. What percentage are smokers?\n",
    "5. How many/what percent of the set have children? 1-2 children? more than 3 children?\n",
    "\n",
    "Next, I will compare charges based on different parameters. I am tempted to analyze the charges for each possible parameter, but instead I will focus on the most actionable parameters: bmi, smoking status, and region.\n",
    "1. Categorize bmi according to underweight, ideal weight, overweight, and obese, and find the average insurance cost for each range.\n",
    "2. How do charges differ based on smoking status?\n",
    "3. Do people in different regions have significantly different charges?\n",
    "\n",
    "Also of interest is how the bmi relates to other factors:\n",
    "1. What is average bmi by age range? Perhaps also separate male and female, as bmi can vary between the different genders.\n",
    "2. What is the average bmi by smoking status?\n",
    "\n",
    "Actions that can be taken based on the analyses done.\n",
    "1. How can this help people to reduce their insurance charges?\n",
    "2. How can this help people to be more healthy?"
   ]
  },
  {
   "cell_type": "code",
   "execution_count": 71,
   "metadata": {},
   "outputs": [],
   "source": [
    "# Import the data set, read the file, and print each row to see what we are working with. \n",
    "import csv\n",
    "\n",
    "#with open('insurance.csv', newline = \"\") as insurance_csv_file:\n",
    "    #insurance_reader = csv.reader(insurance_csv_file)\n",
    "    #for row in insurance_reader:\n",
    "        #print(row)"
   ]
  },
  {
   "cell_type": "code",
   "execution_count": 63,
   "metadata": {},
   "outputs": [],
   "source": [
    "# Save the dataset into lists.\n",
    "# Initialise the empty lists to be filled.\n",
    "ages_list= []\n",
    "sexes_list = []\n",
    "bmis_list = []\n",
    "num_children_list = []\n",
    "smoking_status_list = []\n",
    "regions_list = []\n",
    "charges_list = []\n",
    "# Open the csv file and append to each list using DictReader\n",
    "with open ('insurance.csv', newline = \"\") as insurance_csv_file:\n",
    "    insurance_dict = csv.DictReader(insurance_csv_file)\n",
    "    for row in insurance_dict:\n",
    "        ages_list.append(int(row['age']))\n",
    "        sexes_list.append(row['sex'])\n",
    "        bmis_list.append(float(row['bmi']))\n",
    "        num_children_list.append(int(row['children']))\n",
    "        smoking_status_list.append(row['smoker'])\n",
    "        regions_list.append(row['region'])\n",
    "        charges_list.append(float(row['charges']))\n",
    "# Print each list to make sure the data has been saved properly\n",
    "#print(ages_list)\n",
    "#print(sexes_list)\n",
    "#print(bmis_list)\n",
    "#print(num_children_list)\n",
    "#print(smoking_status_list)\n",
    "#print(regions_list)\n",
    "#print(charges_list)"
   ]
  },
  {
   "cell_type": "markdown",
   "metadata": {},
   "source": [
    "## Describing the Dataset\n",
    "\n",
    "Let's get a picture of our dataset.\n",
    "\n",
    "    What is the size of the sample?\n",
    "    What percent are male and what percent are female?\n",
    "    How many people from each region?\n",
    "    What percentage are smokers?\n",
    "    How many/what percent of the set have children? 1-2 children? more than 3 children?\n"
   ]
  },
  {
   "cell_type": "code",
   "execution_count": 59,
   "metadata": {},
   "outputs": [
    {
     "name": "stdout",
     "output_type": "stream",
     "text": [
      "The sample size is 1338 people.\n"
     ]
    }
   ],
   "source": [
    "# Count the number of entries in the dataset\n",
    "dataset_size = len(ages_list)\n",
    "\n",
    "print(f'The sample size is {dataset_size} people.')"
   ]
  },
  {
   "cell_type": "code",
   "execution_count": 6,
   "metadata": {},
   "outputs": [
    {
     "name": "stdout",
     "output_type": "stream",
     "text": [
      "The dataset is made up of 50.52% male and 49.48% female entries.\n",
      "So we see that male and female are evenly represented in the dataset.\n"
     ]
    }
   ],
   "source": [
    "# Find the percent male and female in the dataset\n",
    "def percent_male_female(sexes_list):\n",
    "    count_male = 0\n",
    "    count_female = 0\n",
    "    for element in sexes_list:\n",
    "        if element == 'male':\n",
    "            count_male += 1\n",
    "        elif element == 'female':\n",
    "            count_female += 1\n",
    "    average_male = round(count_male / dataset_size * 100, 2)\n",
    "    average_female = round(count_female / dataset_size * 100, 2)\n",
    "    return average_male, average_female\n",
    "\n",
    "print(f\"The dataset is made up of {percent_male_female(sexes_list)[0]}% male and {percent_male_female(sexes_list)[1]}% female entries.\")\n",
    "print(f'So we see that male and female are evenly represented in the dataset.')"
   ]
  },
  {
   "cell_type": "code",
   "execution_count": 7,
   "metadata": {},
   "outputs": [
    {
     "name": "stdout",
     "output_type": "stream",
     "text": [
      "The dataset is made up of 24.29% from the northwest, 24.22% from the northeast, 24.29% from the southwest, and 27.2% from the southeast.\n",
      "So we see that the 4 regions are pretty much evenly represented, with slightly more in the southeast region than in the others.\n"
     ]
    }
   ],
   "source": [
    "# Find what percent of the dataset is represented by each region\n",
    "def region_make_up(regions_list):\n",
    "    northwest_count = 0\n",
    "    northeast_count = 0\n",
    "    southwest_count = 0\n",
    "    southeast_count = 0\n",
    "    for region in regions_list:\n",
    "        if region == 'northwest':\n",
    "            northwest_count += 1\n",
    "        elif region == 'northeast':\n",
    "            northeast_count += 1\n",
    "        elif region == 'southwest':\n",
    "            southwest_count += 1\n",
    "        elif region == 'southeast':\n",
    "            southeast_count += 1\n",
    "    return northwest_count, northeast_count, southwest_count, southeast_count\n",
    "\n",
    "nw_ne_sw_se = region_make_up(regions_list)\n",
    "nw_pct = round(nw_ne_sw_se[0] / dataset_size *100, 2)\n",
    "ne_pct = round(nw_ne_sw_se[1] / dataset_size *100, 2)\n",
    "sw_pct = round(nw_ne_sw_se[2] / dataset_size *100, 2)\n",
    "se_pct = round(nw_ne_sw_se[3] / dataset_size *100, 2)\n",
    "print(f'The dataset is made up of {nw_pct}% from the northwest, {ne_pct}% from the northeast, {sw_pct}% from the southwest, and {se_pct}% from the southeast.')\n",
    "print(f'So we see that the 4 regions are pretty much evenly represented, with slightly more in the southeast region than in the others.')"
   ]
  },
  {
   "cell_type": "code",
   "execution_count": 8,
   "metadata": {},
   "outputs": [
    {
     "name": "stdout",
     "output_type": "stream",
     "text": [
      "The dataset is made up of 20.48% smokers and 79.52% non-smokers.\n"
     ]
    }
   ],
   "source": [
    "# Find what percent of the dataset are smokers and non-smokers\n",
    "def smoker_make_up(smoking_status_list):\n",
    "    smoker_count = 0\n",
    "    non_smoker_count = 0\n",
    "    for element in smoking_status_list:\n",
    "        if element == 'yes':\n",
    "            smoker_count += 1\n",
    "        elif element == 'no':\n",
    "            non_smoker_count +=1\n",
    "    return smoker_count, non_smoker_count\n",
    "\n",
    "smoker_non_smoker = smoker_make_up(smoking_status_list)\n",
    "smoker_pct = round(smoker_non_smoker[0] / dataset_size *100, 2)\n",
    "non_smoker_pct = round(smoker_non_smoker[1] / dataset_size *100, 2)\n",
    "print(f'The dataset is made up of {smoker_pct}% smokers and {non_smoker_pct}% non-smokers.')\n",
    "        "
   ]
  },
  {
   "cell_type": "code",
   "execution_count": 64,
   "metadata": {},
   "outputs": [
    {
     "name": "stdout",
     "output_type": "stream",
     "text": [
      "In this dataset, 42.9% had no children, 42.15% had 1-2 children, and 14.95% had more than 3 children.\n"
     ]
    }
   ],
   "source": [
    "# Find the family size make-up of the dataset\n",
    "# First make a dictionary of possible number of children from the dataset, with keys being range of number of children\n",
    "# and values being how many people have the number of children in that range.\n",
    "def family_size_dict(num_children_list):\n",
    "    no_children_count = 0\n",
    "    one_two_children_count = 0\n",
    "    three_plus_children_count = 0\n",
    "    for num in num_children_list:\n",
    "        if num == 0:\n",
    "            no_children_count += 1\n",
    "        elif 1 <= num <= 2:\n",
    "            one_two_children_count += 1\n",
    "        elif num >= 3:\n",
    "            three_plus_children_count += 1\n",
    "    num_children_dict = {'0': no_children_count, '1-2': one_two_children_count, '3+': three_plus_children_count}\n",
    "    return num_children_dict\n",
    "\n",
    "num_children_dict = family_size_dict(num_children_list)\n",
    "no_children_pct = round(num_children_dict['0'] / dataset_size * 100, 2)\n",
    "one_two_children_pct = round(num_children_dict['1-2'] / dataset_size * 100, 2)\n",
    "three_plus_children_pct = round(num_children_dict['3+'] / dataset_size * 100, 2)\n",
    "print(f'In this dataset, {no_children_pct}% had no children, {one_two_children_pct}% had 1-2 children, and {three_plus_children_pct}% had more than 3 children.')\n",
    "# Just a little check that all the data was counted; it prints 1338, so all the data was counted.\n",
    "# print(num_children_dict['0'] + num_children_dict['1-2'] + num_children_dict['3+'])\n",
    "            "
   ]
  },
  {
   "cell_type": "markdown",
   "metadata": {},
   "source": [
    "## Comparing Charges for Different Parameters\n",
    "\n",
    "Now that we have an idea of what our population looks like, let's take a look at how different parameters affect medical insurance charges. I will look at charges for the parameters of BMI, smoking status, and region."
   ]
  },
  {
   "cell_type": "markdown",
   "metadata": {},
   "source": [
    "### Medical Insurance Charges by BMI\n",
    "\n",
    "I am going to look at average insurance charges for BMIs in the underweight range (under 18.5), healthy weight range (18.5-24.9), overweight range (25.0-29.9), and obese range (30.0 and up). These ranges were obtained from cdc.gov."
   ]
  },
  {
   "cell_type": "code",
   "execution_count": 10,
   "metadata": {},
   "outputs": [
    {
     "name": "stdout",
     "output_type": "stream",
     "text": [
      "The lowest bmi in the dataset is 15.96.\n",
      "The highest bmi in the dataset is 53.13.\n"
     ]
    }
   ],
   "source": [
    "# Group the bmi data into categories and find the charges for bmi categories.\n",
    "# First, find the lowest and highest bmi's.\n",
    "print(f'The lowest bmi in the dataset is {min(bmis_list)}.')\n",
    "print(f'The highest bmi in the dataset is {max(bmis_list)}.')"
   ]
  },
  {
   "cell_type": "code",
   "execution_count": 65,
   "metadata": {},
   "outputs": [
    {
     "name": "stdout",
     "output_type": "stream",
     "text": [
      "The average charge for underweight individuals is $8852.\n",
      "The average charge for healthy indivuals is $10409.\n",
      "The average charge for overweight individuals is $10988.\n",
      "The average charge for obese individuals is $15552.\n"
     ]
    }
   ],
   "source": [
    "# Categorise the BMIs by underweight (under 18.5), healthy weight (18.5-24.9), overweight (25.0-29.9), and obese (30.0 and above), according to cdc.gov.\n",
    "def categorise_by_bmi(bmis_list, charges_list):\n",
    "    bmis_with_charges = list(zip(bmis_list, charges_list))\n",
    "    underweight = []\n",
    "    healthy = []\n",
    "    overweight = []\n",
    "    obese = []\n",
    "    for (i,j) in bmis_with_charges:\n",
    "        if i < 18.5:\n",
    "            underweight.append((i,j))\n",
    "        elif 18.5 <= i < 25.0:\n",
    "            healthy.append((i,j))\n",
    "        elif 25.0 <= i < 30.0:\n",
    "            overweight.append((i,j))\n",
    "        elif i >= 30.0:\n",
    "            obese.append((i,j))\n",
    "    return underweight, healthy, overweight, obese\n",
    "\n",
    "underweight = categorise_by_bmi(bmis_list, charges_list)[0]\n",
    "healthy = categorise_by_bmi(bmis_list, charges_list)[1]\n",
    "overweight = categorise_by_bmi(bmis_list, charges_list)[2]\n",
    "obese = categorise_by_bmi(bmis_list, charges_list)[3]\n",
    "\n",
    "# Find average charges in each category\n",
    "def avg_charge_bmi(underweight, healthy, overweight, obese):\n",
    "    underweight_charges_list = []\n",
    "    for (i,j) in underweight:\n",
    "        underweight_charges_list.append(j)\n",
    "    avg_charge_underweight = round(sum(underweight_charges_list) / len(underweight_charges_list))\n",
    "    print(f'The average charge for underweight individuals is ${avg_charge_underweight}.')\n",
    "    \n",
    "    healthy_charges_list = []\n",
    "    for (i,j) in healthy:\n",
    "        healthy_charges_list.append(j)\n",
    "    avg_charge_healthy = round(sum(healthy_charges_list) / len(healthy_charges_list))\n",
    "    print(f'The average charge for healthy indivuals is ${avg_charge_healthy}.')\n",
    "    \n",
    "    overweight_charges_list = []\n",
    "    for (i,j) in overweight:\n",
    "        overweight_charges_list.append(j)\n",
    "    avg_charge_overweight = round(sum(overweight_charges_list) / len(overweight_charges_list))\n",
    "    print(f'The average charge for overweight individuals is ${avg_charge_overweight}.')\n",
    "    \n",
    "    obese_charges_list = []\n",
    "    for (i,j) in obese:\n",
    "        obese_charges_list.append(j)\n",
    "    avg_charge_obese = round(sum(obese_charges_list) / len(obese_charges_list))\n",
    "    print(f'The average charge for obese individuals is ${avg_charge_obese}.')\n",
    "\n",
    "avg_charge_bmi(underweight, healthy, overweight, obese)\n"
   ]
  },
  {
   "cell_type": "markdown",
   "metadata": {},
   "source": [
    "So we can see that as BMI increases, so do medical insurance costs. I would like to do a better statistical analysis of this with standard deviation and show some graphs, but I don't know how to do that yet!"
   ]
  },
  {
   "cell_type": "markdown",
   "metadata": {},
   "source": [
    "### Medical Insurance Charges by Smoking Status\n",
    "\n",
    "I am going to compare the average charges for smokers and non-smokers."
   ]
  },
  {
   "cell_type": "code",
   "execution_count": 66,
   "metadata": {},
   "outputs": [
    {
     "name": "stdout",
     "output_type": "stream",
     "text": [
      "The average charge for smokers is $32050.\n",
      "The average charge for non-smokers is $8434.\n"
     ]
    }
   ],
   "source": [
    "# First zip together smoking status with charges.\n",
    "smoking_status_with_charges = list(zip(smoking_status_list, charges_list))\n",
    "\n",
    "# Find the average charge for smokers and non_smokers\n",
    "def avg_charge_smoking_status(smoking_status_with_charges):\n",
    "    smoker_charges_list = []\n",
    "    nonsmoker_charges_list = []\n",
    "    for (i,j) in smoking_status_with_charges:\n",
    "        if i == \"yes\":\n",
    "            smoker_charges_list.append(j)\n",
    "        elif i == \"no\":\n",
    "            nonsmoker_charges_list.append(j)\n",
    "    avg_charges_smoker = round(sum(smoker_charges_list) / len(smoker_charges_list))\n",
    "    avg_charges_nonsmoker = round(sum(nonsmoker_charges_list) / len(nonsmoker_charges_list))\n",
    "    print(f'The average charge for smokers is ${avg_charges_smoker}.')\n",
    "    print(f'The average charge for non-smokers is ${avg_charges_nonsmoker}.')\n",
    "\n",
    "avg_charge_smoking_status(smoking_status_with_charges)"
   ]
  },
  {
   "cell_type": "markdown",
   "metadata": {},
   "source": [
    "Wow! So I figured charges would be higher for smokers, but I didn't imagine they would be that much higher! Again, I would like to do a better statistical analysis, but for now all I can do is compare averages."
   ]
  },
  {
   "cell_type": "markdown",
   "metadata": {},
   "source": [
    "### Medical Insurance Charges by Region\n",
    "\n",
    "Now I want to examine something that might not seem so obvious. I wonder if insurance charges differ in the different regions of the US: Northwest, Northeast, Southwest, and Southeast."
   ]
  },
  {
   "cell_type": "code",
   "execution_count": 67,
   "metadata": {},
   "outputs": [
    {
     "name": "stdout",
     "output_type": "stream",
     "text": [
      "The average charge for the Northwest region is $12418.\n",
      "The average charge for the Northeast region is $13406.\n",
      "The average charge for the Southwest region is $12347.\n",
      "The average charge for the Southeast region is $12418.\n"
     ]
    }
   ],
   "source": [
    "# Find the average charge for each region.\n",
    "def avg_charge_by_region(regions_list, charges_list):\n",
    "    regions_with_charges = list(zip(regions_list, charges_list))\n",
    "    nw_charges_list = []\n",
    "    ne_charges_list = []\n",
    "    sw_charges_list = []\n",
    "    se_charges_list = []\n",
    "    for (i,j) in regions_with_charges:\n",
    "        if i == \"northwest\":\n",
    "            nw_charges_list.append(j)\n",
    "        elif i == \"northeast\":\n",
    "            ne_charges_list.append(j)\n",
    "        elif i == \"southwest\":\n",
    "            sw_charges_list.append(j)\n",
    "        elif i == \"southeast\":\n",
    "            se_charges_list.append(j)\n",
    "    avg_charge_nw = round(sum(nw_charges_list) / len(nw_charges_list))\n",
    "    avg_charge_ne = round(sum(ne_charges_list) / len(ne_charges_list))\n",
    "    avg_charge_sw = round(sum(sw_charges_list) / len(sw_charges_list))\n",
    "    avg_charge_se = round(sum(se_charges_list) / len(se_charges_list))\n",
    "    print(f'The average charge for the Northwest region is ${avg_charge_nw}.')\n",
    "    print(f'The average charge for the Northeast region is ${avg_charge_ne}.')\n",
    "    print(f'The average charge for the Southwest region is ${avg_charge_sw}.')\n",
    "    print(f'The average charge for the Southeast region is ${avg_charge_nw}.')\n",
    "\n",
    "avg_charge_by_region(regions_list, charges_list)"
   ]
  },
  {
   "cell_type": "markdown",
   "metadata": {},
   "source": [
    "So it looks like the average medical insurance costs are pretty much the same throughout the different regions, with the Northeast being slightly more than the others."
   ]
  },
  {
   "cell_type": "markdown",
   "metadata": {},
   "source": [
    "### BMI and Smoking Status\n",
    "\n",
    "As we saw that the average medical insurance costs increase with increasing BMI and with smokers, let's look at if age and sex might affect BMI as well as if there is any correlation between BMI and smoking status."
   ]
  },
  {
   "cell_type": "code",
   "execution_count": 69,
   "metadata": {
    "scrolled": true
   },
   "outputs": [
    {
     "name": "stdout",
     "output_type": "stream",
     "text": [
      "The average BMI for males in their teens is 29.\n",
      "The average BMI for males in their twenties is 31.\n",
      "The average BMI for males in their thirties is 31.\n",
      "The average BMI for males in their  is forties is 31.\n",
      "The average BMI for males in their fifties is 32.\n",
      "The average BMI for males over sixty is 33.\n",
      "The average BMI for females in their teens is 29.\n",
      "The average BMI for females in their twenties is 31.\n",
      "The average BMI for females in their thirties is 31.\n",
      "The average BMI for females in their forties is 31.\n",
      "The average BMI for females in their fifties is 32.\n",
      "The average BMI for females over sixty is 32.\n",
      "The average BMI among the whole sample is 31.\n"
     ]
    }
   ],
   "source": [
    "# First, zip together, age, sex, and BMI. Then find the average BMI, for each age group, for each sex.\n",
    "age_sex_bmi = list(zip(ages_list, sexes_list, bmis_list))\n",
    "male_teens_bmi = []\n",
    "male_twenties_bmi = []\n",
    "male_thirties_bmi = []\n",
    "male_forties_bmi = []\n",
    "male_fifties_bmi = []\n",
    "male_oversixty_bmi = []\n",
    "female_teens_bmi = []\n",
    "female_twenties_bmi = []\n",
    "female_thirties_bmi = []\n",
    "female_forties_bmi = []\n",
    "female_fifties_bmi = []\n",
    "female_oversixty_bmi = []\n",
    "for (i,j,k) in age_sex_bmi:\n",
    "    if j == \"male\":\n",
    "        if float(i) < 20:\n",
    "            male_teens_bmi.append(k)\n",
    "        if 20 <= float(i) < 30:\n",
    "            male_twenties_bmi.append(k)\n",
    "        if 30 <= float(i) < 40:\n",
    "            male_thirties_bmi.append(k)\n",
    "        if 40 <= float(i) < 50:\n",
    "            male_forties_bmi.append(k)\n",
    "        if 50 <= float(i) < 60:\n",
    "            male_fifties_bmi.append(k)\n",
    "        if 60 <= float(i):\n",
    "            male_oversixty_bmi.append(k)\n",
    "    #if j == \"female\"\n",
    "        if float(i) < 20:\n",
    "            female_teens_bmi.append(k)\n",
    "        if 20 <= float(i) < 30:\n",
    "            female_twenties_bmi.append(k)\n",
    "        if 30 <= float(i) < 40:\n",
    "            female_thirties_bmi.append(k)\n",
    "        if 40 <= float(i) < 50:\n",
    "            female_forties_bmi.append(k)\n",
    "        if 50 <= float(i) < 60:\n",
    "            female_fifties_bmi.append(k)\n",
    "        if 60 <= float(i):\n",
    "            female_oversixty_bmi.append(k)\n",
    "print(f'The average BMI for males in their teens is {round(sum(male_teens_bmi) / len(male_teens_bmi))}.')\n",
    "print(f'The average BMI for males in their twenties is {round(sum(male_twenties_bmi) / len(male_twenties_bmi))}.')\n",
    "print(f'The average BMI for males in their thirties is {round(sum(male_thirties_bmi) / len(male_thirties_bmi))}.')\n",
    "print(f'The average BMI for males in their  is forties is {round(sum(male_forties_bmi) / len(male_forties_bmi))}.')\n",
    "print(f'The average BMI for males in their fifties is {round(sum(male_fifties_bmi) / len(male_fifties_bmi))}.')\n",
    "print(f'The average BMI for males over sixty is {round(sum(male_oversixty_bmi) / len(male_oversixty_bmi))}.')\n",
    "print(f'The average BMI for females in their teens is {round(sum(female_teens_bmi) / len(female_teens_bmi))}.')\n",
    "print(f'The average BMI for females in their twenties is {round(sum(female_twenties_bmi) / len(female_twenties_bmi))}.')\n",
    "print(f'The average BMI for females in their thirties is {round(sum(female_thirties_bmi) / len(female_thirties_bmi))}.')\n",
    "print(f'The average BMI for females in their forties is {round(sum(female_forties_bmi) / len(female_forties_bmi))}.')\n",
    "print(f'The average BMI for females in their fifties is {round(sum(female_fifties_bmi) / len(female_fifties_bmi))}.')\n",
    "print(f'The average BMI for females over sixty is {round(sum(female_fifties_bmi) / len(female_fifties_bmi))}.')\n",
    "print(f'The average BMI among the whole sample is {round(sum(bmis_list) / len(bmis_list))}.')"
   ]
  },
  {
   "cell_type": "markdown",
   "metadata": {},
   "source": [
    "The average BMI in each group is high in the overweight range to low in the obese range. The average BMI does not seem to be different between sexes for each age group. As age increases, so does the average BMI. The avereage BMI for the whole sample is also in the low obese range."
   ]
  },
  {
   "cell_type": "code",
   "execution_count": 70,
   "metadata": {},
   "outputs": [
    {
     "name": "stdout",
     "output_type": "stream",
     "text": [
      "The average BMI for smokers is 31.\n",
      "The average BMI for non-smokers is 31.\n"
     ]
    }
   ],
   "source": [
    "# Look at BMI and smoking status\n",
    "smoking_status_bmi = list(zip(smoking_status_list, bmis_list))\n",
    "smoker_bmi_list = []\n",
    "nonsmoker_bmi_list = []\n",
    "for (i,j) in smoking_status_bmi:\n",
    "    if i == 'yes':\n",
    "        smoker_bmi_list.append(j)\n",
    "    elif i == 'no':\n",
    "        nonsmoker_bmi_list.append(j)\n",
    "print(f'The average BMI for smokers is {round(sum(smoker_bmi_list) / len(smoker_bmi_list))}.')\n",
    "print(f'The average BMI for non-smokers is {round(sum(nonsmoker_bmi_list) / len(nonsmoker_bmi_list))}.')"
   ]
  },
  {
   "cell_type": "markdown",
   "metadata": {},
   "source": [
    "So the average BMI for smokers and non-smokers does not seem to be different."
   ]
  },
  {
   "cell_type": "markdown",
   "metadata": {},
   "source": [
    "## Conclusion\n",
    "\n",
    "Based on the analyses done, people can save money on their medical insurance charges by quitting smoking and by lowering their BMI to the healthy range. So, basically, by getting healthy, you can lower your health care costs. Go figure! :-)"
   ]
  }
 ],
 "metadata": {
  "kernelspec": {
   "display_name": "Python 3",
   "language": "python",
   "name": "python3"
  },
  "language_info": {
   "codemirror_mode": {
    "name": "ipython",
    "version": 3
   },
   "file_extension": ".py",
   "mimetype": "text/x-python",
   "name": "python",
   "nbconvert_exporter": "python",
   "pygments_lexer": "ipython3",
   "version": "3.8.8"
  }
 },
 "nbformat": 4,
 "nbformat_minor": 4
}
